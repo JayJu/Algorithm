{
 "cells": [
  {
   "cell_type": "code",
   "execution_count": 160,
   "metadata": {},
   "outputs": [],
   "source": [
    "import sys"
   ]
  },
  {
   "cell_type": "code",
   "execution_count": 161,
   "metadata": {},
   "outputs": [],
   "source": [
    "sys.setrecursionlimit(100000)"
   ]
  },
  {
   "cell_type": "code",
   "execution_count": 162,
   "metadata": {},
   "outputs": [
    {
     "name": "stdout",
     "output_type": "stream",
     "text": [
      "6 5\n"
     ]
    }
   ],
   "source": [
    "n, m = map(int, input().split())"
   ]
  },
  {
   "cell_type": "code",
   "execution_count": 163,
   "metadata": {},
   "outputs": [
    {
     "name": "stdout",
     "output_type": "stream",
     "text": [
      " Node No: 6, Edge No: 5\n"
     ]
    }
   ],
   "source": [
    "print(f' Node No: {n}, Edge No: {m}')"
   ]
  },
  {
   "cell_type": "code",
   "execution_count": 164,
   "metadata": {},
   "outputs": [],
   "source": [
    "a = [[] for _ in range(n)]"
   ]
  },
  {
   "cell_type": "code",
   "execution_count": 165,
   "metadata": {},
   "outputs": [
    {
     "name": "stdout",
     "output_type": "stream",
     "text": [
      " Node: [[], [], [], [], [], []]\n"
     ]
    }
   ],
   "source": [
    "print(f' Node: {a}')"
   ]
  },
  {
   "cell_type": "code",
   "execution_count": 189,
   "metadata": {},
   "outputs": [],
   "source": [
    "check = [False] * (n)"
   ]
  },
  {
   "cell_type": "code",
   "execution_count": 170,
   "metadata": {},
   "outputs": [
    {
     "name": "stdout",
     "output_type": "stream",
     "text": [
      "check: [False, False, False, False, False, False]\n"
     ]
    }
   ],
   "source": [
    "print(f'check: {check}')"
   ]
  },
  {
   "cell_type": "code",
   "execution_count": 171,
   "metadata": {},
   "outputs": [
    {
     "name": "stdout",
     "output_type": "stream",
     "text": [
      "1 2\n",
      "2 5\n",
      "5 1\n",
      "3 4\n",
      "4 6\n"
     ]
    }
   ],
   "source": [
    "for _ in range(m):\n",
    "    u, v = map(int, input().split())\n",
    "    a[u-1].append(v-1)\n",
    "    a[v-1].append(u-1)\n"
   ]
  },
  {
   "cell_type": "code",
   "execution_count": 187,
   "metadata": {},
   "outputs": [
    {
     "name": "stdout",
     "output_type": "stream",
     "text": [
      "Node: [[1, 4], [0, 4], [3], [2, 5], [1, 0], [3]]\n",
      "\n",
      "간선의 양 끝점:\n",
      "Node 1 --> 2\n",
      "Node 1 --> 5\n",
      "Node 2 --> 1\n",
      "Node 2 --> 5\n",
      "Node 3 --> 4\n",
      "Node 4 --> 3\n",
      "Node 4 --> 6\n",
      "Node 5 --> 2\n",
      "Node 5 --> 1\n",
      "Node 6 --> 4\n"
     ]
    }
   ],
   "source": [
    "print(f'Node: {a}\\n')\n",
    "print(f'간선의 양 끝점:')\n",
    "for i in range(len(a)):\n",
    "    for j in range(len(a[i])):\n",
    "        print(f'Node {i+1} --> {a[i][j]+1}')"
   ]
  },
  {
   "cell_type": "code",
   "execution_count": 260,
   "metadata": {},
   "outputs": [],
   "source": [
    "def dfs(x):\n",
    "    check[x] = True\n",
    "    print(f'Node: {x+1}, 인접 Node: {a[x]}, 방문여부: {\"O\" if check[x] is True else \"X\"}, 방문리스트: {[ \"O\" if c is True else \"X\" for c in check]}')\n",
    "    for y in a[x]:\n",
    "        if check[y] == False:\n",
    "            dfs(y)\n",
    "check = [False] * (n)"
   ]
  },
  {
   "cell_type": "code",
   "execution_count": 261,
   "metadata": {},
   "outputs": [],
   "source": [
    "ans = 0"
   ]
  },
  {
   "cell_type": "code",
   "execution_count": 262,
   "metadata": {},
   "outputs": [
    {
     "name": "stdout",
     "output_type": "stream",
     "text": [
      "1\n",
      "Node: 1, 인접 Node: [1, 4], 방문여부: O, 방문리스트: ['O', 'X', 'X', 'X', 'X', 'X']\n",
      "Node: 2, 인접 Node: [0, 4], 방문여부: O, 방문리스트: ['O', 'O', 'X', 'X', 'X', 'X']\n",
      "Node: 5, 인접 Node: [1, 0], 방문여부: O, 방문리스트: ['O', 'O', 'X', 'X', 'O', 'X']\n",
      "3\n",
      "Node: 3, 인접 Node: [3], 방문여부: O, 방문리스트: ['O', 'O', 'O', 'X', 'O', 'X']\n",
      "Node: 4, 인접 Node: [2, 5], 방문여부: O, 방문리스트: ['O', 'O', 'O', 'O', 'O', 'X']\n",
      "Node: 6, 인접 Node: [3], 방문여부: O, 방문리스트: ['O', 'O', 'O', 'O', 'O', 'O']\n",
      "\n",
      "answer: 2\n"
     ]
    }
   ],
   "source": [
    "for i in range(n):\n",
    "    if not check[i]:\n",
    "        print(i+1)\n",
    "        dfs(i)\n",
    "        ans += 1\n",
    "print(f'\\nanswer: {ans}')"
   ]
  },
  {
   "cell_type": "code",
   "execution_count": null,
   "metadata": {},
   "outputs": [],
   "source": []
  }
 ],
 "metadata": {
  "kernelspec": {
   "display_name": "Python 3",
   "language": "python",
   "name": "python3"
  },
  "language_info": {
   "codemirror_mode": {
    "name": "ipython",
    "version": 3
   },
   "file_extension": ".py",
   "mimetype": "text/x-python",
   "name": "python",
   "nbconvert_exporter": "python",
   "pygments_lexer": "ipython3",
   "version": "3.6.5"
  }
 },
 "nbformat": 4,
 "nbformat_minor": 2
}
