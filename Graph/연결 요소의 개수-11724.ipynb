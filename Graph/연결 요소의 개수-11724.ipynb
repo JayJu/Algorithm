{
 "cells": [
  {
   "cell_type": "code",
   "execution_count": 5,
   "metadata": {},
   "outputs": [],
   "source": [
    "import sys"
   ]
  },
  {
   "cell_type": "code",
   "execution_count": 6,
   "metadata": {},
   "outputs": [
    {
     "name": "stdin",
     "output_type": "stream",
     "text": [
      " 6 5\n"
     ]
    }
   ],
   "source": [
    "node_no, edge_no = map(int, input().split())"
   ]
  },
  {
   "cell_type": "code",
   "execution_count": 7,
   "metadata": {},
   "outputs": [
    {
     "name": "stdout",
     "output_type": "stream",
     "text": [
      " Node No: 6, Edge No: 5\n"
     ]
    }
   ],
   "source": [
    "print(f' Node No: {node_no}, Edge No: {edge_no}')"
   ]
  },
  {
   "cell_type": "code",
   "execution_count": 8,
   "metadata": {},
   "outputs": [],
   "source": [
    "node = [[] for _ in range(node_no)]"
   ]
  },
  {
   "cell_type": "code",
   "execution_count": 9,
   "metadata": {},
   "outputs": [
    {
     "name": "stdout",
     "output_type": "stream",
     "text": [
      " Node: [[], [], [], [], [], []]\n"
     ]
    }
   ],
   "source": [
    "print(f'Node: {node}')"
   ]
  },
  {
   "cell_type": "code",
   "execution_count": 10,
   "metadata": {},
   "outputs": [],
   "source": [
    "checklist = [False] * (node_no)"
   ]
  },
  {
   "cell_type": "code",
   "execution_count": 11,
   "metadata": {},
   "outputs": [
    {
     "name": "stdout",
     "output_type": "stream",
     "text": [
      "check list: [False, False, False, False, False, False]\n"
     ]
    }
   ],
   "source": [
    "print(f'check list: {checklist}')"
   ]
  },
  {
   "cell_type": "code",
   "execution_count": 12,
   "metadata": {},
   "outputs": [
    {
     "name": "stdin",
     "output_type": "stream",
     "text": [
      " 1 2\n",
      " 2 5\n",
      " 5 1\n",
      " 3 4\n",
      " 4 6\n"
     ]
    }
   ],
   "source": [
    "for _ in range(edge_no):\n",
    "    u, v = map(int, input().split())\n",
    "    node[u-1].append(v-1)\n",
    "    node[v-1].append(u-1)"
   ]
  },
  {
   "cell_type": "code",
   "execution_count": 13,
   "metadata": {},
   "outputs": [
    {
     "name": "stdout",
     "output_type": "stream",
     "text": [
      "Node: [[1, 4], [0, 4], [3], [2, 5], [1, 0], [3]]\n",
      "\n",
      "간선의 양 끝점:\n",
      "Node 1 --> 2\n",
      "Node 1 --> 5\n",
      "Node 2 --> 1\n",
      "Node 2 --> 5\n",
      "Node 3 --> 4\n",
      "Node 4 --> 3\n",
      "Node 4 --> 6\n",
      "Node 5 --> 2\n",
      "Node 5 --> 1\n",
      "Node 6 --> 4\n"
     ]
    }
   ],
   "source": [
    "print(f'Node: {node}\\n')\n",
    "print(f'간선의 양 끝점:')\n",
    "for i in range(len(node)):\n",
    "    for j in range(len(node[i])):\n",
    "        print(f'Node {i+1} --> {node[i][j]+1}')"
   ]
  },
  {
   "cell_type": "code",
   "execution_count": 14,
   "metadata": {},
   "outputs": [],
   "source": [
    "def dfs(x):\n",
    "    checklist[x] = True\n",
    "    print(f'Node: {x+1}, 인접 Node: {node[x]}, 방문여부: {\"O\" if checklist[x] is True else \"X\"}, 방문리스트: {[ \"O\" if c is True else \"X\" for c in checklist]}')\n",
    "    for y in node[x]:\n",
    "        if checklist[y] == False:\n",
    "            dfs(y)"
   ]
  },
  {
   "cell_type": "code",
   "execution_count": 15,
   "metadata": {},
   "outputs": [],
   "source": [
    "ans = 0"
   ]
  },
  {
   "cell_type": "code",
   "execution_count": 16,
   "metadata": {},
   "outputs": [
    {
     "name": "stdout",
     "output_type": "stream",
     "text": [
      "1\n",
      "Node: 1, 인접 Node: [1, 4], 방문여부: O, 방문리스트: ['O', 'X', 'X', 'X', 'X', 'X']\n",
      "Node: 2, 인접 Node: [0, 4], 방문여부: O, 방문리스트: ['O', 'O', 'X', 'X', 'X', 'X']\n",
      "Node: 5, 인접 Node: [1, 0], 방문여부: O, 방문리스트: ['O', 'O', 'X', 'X', 'O', 'X']\n",
      "3\n",
      "Node: 3, 인접 Node: [3], 방문여부: O, 방문리스트: ['O', 'O', 'O', 'X', 'O', 'X']\n",
      "Node: 4, 인접 Node: [2, 5], 방문여부: O, 방문리스트: ['O', 'O', 'O', 'O', 'O', 'X']\n",
      "Node: 6, 인접 Node: [3], 방문여부: O, 방문리스트: ['O', 'O', 'O', 'O', 'O', 'O']\n",
      "\n",
      "answer: 2\n"
     ]
    }
   ],
   "source": [
    "for i in range(node_no):\n",
    "    if not checklist[i]:\n",
    "        print(i+1)\n",
    "        dfs(i)\n",
    "        ans += 1\n",
    "print(f'\\nanswer: {ans}')"
   ]
  },
  {
   "cell_type": "code",
   "execution_count": 17,
   "metadata": {},
   "outputs": [],
   "source": [
    "def answer():\n",
    "    ans = 0\n",
    "    node_no, edge_no = map(int, input().split())\n",
    "    node = [[] for _ in range(node_no)]\n",
    "    checklist = [False] * (node_no)\n",
    "    \n",
    "    def dfs(x):\n",
    "        checklist[x] = True\n",
    "        for y in node[x]:\n",
    "            if checklist[y] == False:\n",
    "                dfs(y)\n",
    "    \n",
    "    for _ in range(edge_no):\n",
    "        u, v = map(int, input().split())\n",
    "        node[u-1].append(v-1)\n",
    "        node[v-1].append(u-1)\n",
    "        \n",
    "    for i in range(node_no):\n",
    "        if not checklist[i]:\n",
    "            print(i+1)\n",
    "            dfs(i)\n",
    "            ans += 1\n",
    "    print(f'\\nanswer: {ans}')"
   ]
  },
  {
   "cell_type": "code",
   "execution_count": 18,
   "metadata": {},
   "outputs": [
    {
     "name": "stdin",
     "output_type": "stream",
     "text": [
      " 6 5\n",
      " 1 2\n",
      " 2 5\n",
      " 5 1\n",
      " 3 4\n",
      " 4 6\n"
     ]
    },
    {
     "name": "stdout",
     "output_type": "stream",
     "text": [
      "1\n",
      "3\n",
      "\n",
      "answer: 2\n"
     ]
    }
   ],
   "source": [
    "answer()"
   ]
  },
  {
   "cell_type": "code",
   "execution_count": null,
   "metadata": {},
   "outputs": [],
   "source": []
  }
 ],
 "metadata": {
  "kernelspec": {
   "display_name": "Python 3",
   "language": "python",
   "name": "python3"
  },
  "language_info": {
   "codemirror_mode": {
    "name": "ipython",
    "version": 3
   },
   "file_extension": ".py",
   "mimetype": "text/x-python",
   "name": "python",
   "nbconvert_exporter": "python",
   "pygments_lexer": "ipython3",
   "version": "3.6.8"
  }
 },
 "nbformat": 4,
 "nbformat_minor": 4
}
