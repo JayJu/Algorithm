{
 "cells": [
  {
   "cell_type": "code",
   "execution_count": 1,
   "metadata": {},
   "outputs": [],
   "source": [
    "import sys"
   ]
  },
  {
   "cell_type": "code",
   "execution_count": 2,
   "metadata": {},
   "outputs": [],
   "source": [
    "sys.setrecursionlimit(1000000)"
   ]
  },
  {
   "cell_type": "code",
   "execution_count": 5,
   "metadata": {},
   "outputs": [
    {
     "name": "stdout",
     "output_type": "stream",
     "text": [
      "2\n"
     ]
    }
   ],
   "source": [
    "t = int(input())"
   ]
  },
  {
   "cell_type": "code",
   "execution_count": null,
   "metadata": {},
   "outputs": [],
   "source": []
  },
  {
   "cell_type": "code",
   "execution_count": null,
   "metadata": {},
   "outputs": [
    {
     "name": "stdout",
     "output_type": "stream",
     "text": [
      "3 2\n",
      "1 3\n",
      "2 3\n",
      "1\n",
      "Node: 1, 색상: 1, 인접 Node: [2], 방문여부: O, 방문리스트: ['O', 'X', 'X']\n",
      "Node: 3, 색상: 2, 인접 Node: [0, 1], 방문여부: X, 방문리스트: ['O', 'X', 'X']\n",
      "Node: 2, 색상: 1, 인접 Node: [2], 방문여부: O, 방문리스트: ['O', 'O', 'X']\n",
      "YES\n"
     ]
    }
   ],
   "source": [
    "for _ in range(t):\n",
    "    n, m = map(int, input().split())\n",
    "    a = [[] for _ in range(n)]\n",
    "    color = [0] * n\n",
    "    \n",
    "    for _ in range(m):\n",
    "        u, v = map(int, input().split())\n",
    "        a[u-1].append(v-1)\n",
    "        a[v-1].append(u-1)\n",
    "        \n",
    "    def dfs(x, c):\n",
    "        color[x] = c\n",
    "        print(f'Node: {x+1}, 색상: {c}, 인접 Node: {a[x]}, 방문여부: {\"O\" if color[x] == 1 else \"X\"}, 방문리스트: {[ \"O\" if c == 1 else \"X\" for c in color]}')\n",
    "        for y in a[x]:\n",
    "            if color[y] == 0:\n",
    "                print(f'처음방문')\n",
    "                if not dfs(y, 3-c):\n",
    "                    return False\n",
    "            elif color[y] == color[x]:\n",
    "                return False\n",
    "        return True\n",
    "    \n",
    "    ans = True\n",
    "    \n",
    "    for i in range(n):\n",
    "        if color[i] == 0:\n",
    "            print(i+1)\n",
    "            if not dfs(i, 1):\n",
    "                ans = False\n",
    "    print('YES' if ans else 'NO')"
   ]
  },
  {
   "cell_type": "markdown",
   "metadata": {},
   "source": [
    "### "
   ]
  }
 ],
 "metadata": {
  "kernelspec": {
   "display_name": "Python 3",
   "language": "python",
   "name": "python3"
  },
  "language_info": {
   "codemirror_mode": {
    "name": "ipython",
    "version": 3
   },
   "file_extension": ".py",
   "mimetype": "text/x-python",
   "name": "python",
   "nbconvert_exporter": "python",
   "pygments_lexer": "ipython3",
   "version": "3.6.5"
  }
 },
 "nbformat": 4,
 "nbformat_minor": 2
}
