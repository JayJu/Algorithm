{
 "cells": [
  {
   "cell_type": "code",
   "execution_count": 1,
   "metadata": {},
   "outputs": [],
   "source": [
    "import sys"
   ]
  },
  {
   "cell_type": "code",
   "execution_count": 1,
   "metadata": {},
   "outputs": [
    {
     "name": "stdin",
     "output_type": "stream",
     "text": [
      " 2\n"
     ]
    }
   ],
   "source": [
    "test_case = int(input())"
   ]
  },
  {
   "cell_type": "code",
   "execution_count": 2,
   "metadata": {},
   "outputs": [
    {
     "name": "stdin",
     "output_type": "stream",
     "text": [
      " 3 2\n",
      " 1 3\n",
      " 2 3\n"
     ]
    },
    {
     "name": "stdout",
     "output_type": "stream",
     "text": [
      "1\n",
      "Node: 1, 색상: 1, 인접 Node: [2], 방문여부: O, 방문리스트: ['O', 'X', 'X']\n",
      "처음방문\n",
      "Node: 3, 색상: 2, 인접 Node: [0, 1], 방문여부: X, 방문리스트: ['O', 'X', 'X']\n",
      "처음방문\n",
      "Node: 2, 색상: 1, 인접 Node: [2], 방문여부: O, 방문리스트: ['O', 'O', 'X']\n",
      "YES\n"
     ]
    },
    {
     "name": "stdin",
     "output_type": "stream",
     "text": [
      " 4 4\n",
      " 1 2\n",
      " 2 3\n",
      " 3 4\n",
      " 4 2\n"
     ]
    },
    {
     "name": "stdout",
     "output_type": "stream",
     "text": [
      "1\n",
      "Node: 1, 색상: 1, 인접 Node: [1], 방문여부: O, 방문리스트: ['O', 'X', 'X', 'X']\n",
      "처음방문\n",
      "Node: 2, 색상: 2, 인접 Node: [0, 2, 3], 방문여부: X, 방문리스트: ['O', 'X', 'X', 'X']\n",
      "처음방문\n",
      "Node: 3, 색상: 1, 인접 Node: [1, 3], 방문여부: O, 방문리스트: ['O', 'X', 'O', 'X']\n",
      "처음방문\n",
      "Node: 4, 색상: 2, 인접 Node: [2, 1], 방문여부: X, 방문리스트: ['O', 'X', 'O', 'X']\n",
      "NO\n"
     ]
    }
   ],
   "source": [
    "for _ in range(test_case):\n",
    "    node_no, edge_no = map(int, input().split())\n",
    "    node = [[] for _ in range(node_no)]\n",
    "    colorlist = [0] * node_no\n",
    "    \n",
    "    for _ in range(edge_no):\n",
    "        u, v = map(int, input().split())\n",
    "        node[u-1].append(v-1)\n",
    "        node[v-1].append(u-1)\n",
    "        \n",
    "    def dfs(x, c):\n",
    "        colorlist[x] = c\n",
    "        print(f'Node: {x+1}, 색상: {c}, 인접 Node: {node[x]}, 방문여부: {\"O\" if colorlist[x] == 1 else \"X\"}, 방문리스트: {[ \"O\" if c == 1 else \"X\" for c in colorlist]}')\n",
    "        for y in node[x]:\n",
    "            if colorlist[y] == 0:\n",
    "                print(f'처음방문')\n",
    "                if not dfs(y, 3-c):\n",
    "                    return False\n",
    "            elif colorlist[y] == colorlist[x]:\n",
    "                return False\n",
    "        return True\n",
    "    \n",
    "    ans = True\n",
    "    \n",
    "    for i in range(node_no):\n",
    "        if colorlist[i] == 0:\n",
    "            print(i+1)\n",
    "            if not dfs(i, 1):\n",
    "                ans = False\n",
    "    print('YES' if ans else 'NO')"
   ]
  }
 ],
 "metadata": {
  "kernelspec": {
   "display_name": "Python 3",
   "language": "python",
   "name": "python3"
  },
  "language_info": {
   "codemirror_mode": {
    "name": "ipython",
    "version": 3
   },
   "file_extension": ".py",
   "mimetype": "text/x-python",
   "name": "python",
   "nbconvert_exporter": "python",
   "pygments_lexer": "ipython3",
   "version": "3.6.8"
  }
 },
 "nbformat": 4,
 "nbformat_minor": 4
}
