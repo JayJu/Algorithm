{
 "cells": [
  {
   "cell_type": "code",
   "execution_count": 1,
   "metadata": {},
   "outputs": [],
   "source": [
    "import sys"
   ]
  },
  {
   "cell_type": "code",
   "execution_count": 3,
   "metadata": {},
   "outputs": [
    {
     "name": "stdin",
     "output_type": "stream",
     "text": [
      " 3 2\n"
     ]
    }
   ],
   "source": [
    "node_no, edge_no = map(int, input().split())"
   ]
  },
  {
   "cell_type": "code",
   "execution_count": 63,
   "metadata": {},
   "outputs": [
    {
     "name": "stdout",
     "output_type": "stream",
     "text": [
      " Node No: 3, Edge No: 2\n"
     ]
    }
   ],
   "source": [
    "print(f' Node No: {node_no}, Edge No: {edge_no}')"
   ]
  },
  {
   "cell_type": "code",
   "execution_count": 69,
   "metadata": {},
   "outputs": [
    {
     "name": "stdin",
     "output_type": "stream",
     "text": [
      " 1 3\n",
      " 2 3\n"
     ]
    }
   ],
   "source": [
    "node = [[] for _ in range(node_no)]\n",
    "colorlist = [0] * node_no\n",
    "\n",
    "for _ in range(edge_no):\n",
    "    u, v = map(int, input().split())\n",
    "    node[u-1].append(v-1)\n",
    "    node[v-1].append(u-1)"
   ]
  },
  {
   "cell_type": "code",
   "execution_count": 70,
   "metadata": {},
   "outputs": [
    {
     "name": "stdout",
     "output_type": "stream",
     "text": [
      "Node: [[2], [2], [0, 1]]\n",
      "color list: [0, 0, 0]\n"
     ]
    }
   ],
   "source": [
    "print(f'Node: {node}')\n",
    "print(f'color list: {colorlist}')"
   ]
  },
  {
   "cell_type": "code",
   "execution_count": 71,
   "metadata": {},
   "outputs": [],
   "source": [
    "def dfs(x, c):\n",
    "    colorlist[x] = c\n",
    "    print(f'Node: {x+1}, 색상: {c}, 인접 Node: {node[x]}, 방문여부: {\"O\" if colorlist[x] == 1 else \"X\"}, 색상리스트: {[ c for c in colorlist]}')\n",
    "    for y in node[x]:\n",
    "        print(f'===> Node: {y+1}, 방문여부: {False if colorlist[y] == 0 else True}, {x+1} 과 동일색상여부: {colorlist[y] == colorlist[x]}')\n",
    "        if colorlist[y] == 0:\n",
    "            if not dfs(y, 3-c):\n",
    "                return False\n",
    "        elif colorlist[y] == colorlist[x]:\n",
    "            return False\n",
    "    return True"
   ]
  },
  {
   "cell_type": "code",
   "execution_count": 72,
   "metadata": {},
   "outputs": [],
   "source": [
    "ans = True"
   ]
  },
  {
   "cell_type": "code",
   "execution_count": 73,
   "metadata": {},
   "outputs": [
    {
     "name": "stdout",
     "output_type": "stream",
     "text": [
      "Node: 1, 색상: 1, 인접 Node: [2], 방문여부: O, 색상리스트: [1, 0, 0]\n",
      "===> Node: 3, 방문여부: False, 1 과 동일색상여부: False\n",
      "Node: 3, 색상: 2, 인접 Node: [0, 1], 방문여부: X, 색상리스트: [1, 0, 2]\n",
      "===> Node: 1, 방문여부: True, 3 과 동일색상여부: False\n",
      "===> Node: 2, 방문여부: False, 3 과 동일색상여부: False\n",
      "Node: 2, 색상: 1, 인접 Node: [2], 방문여부: O, 색상리스트: [1, 1, 2]\n",
      "===> Node: 3, 방문여부: True, 2 과 동일색상여부: False\n",
      "YES\n"
     ]
    }
   ],
   "source": [
    "for i in range(node_no):\n",
    "    if colorlist[i] == 0:\n",
    "        if not dfs(i, 1):\n",
    "            ans = False\n",
    "print('YES' if ans else 'NO')"
   ]
  },
  {
   "cell_type": "code",
   "execution_count": 1,
   "metadata": {},
   "outputs": [],
   "source": [
    "def answer():\n",
    "    test_no = int(input())\n",
    "    for _ in range(test_no):\n",
    "        ans = True\n",
    "        node_no, edge_no = map(int, input().split())\n",
    "        node = [[] for _ in range(node_no)]\n",
    "        colorlist = [0] * node_no\n",
    "\n",
    "        for _ in range(edge_no):\n",
    "            u, v = map(int, input().split())\n",
    "            node[u-1].append(v-1)\n",
    "            node[v-1].append(u-1)\n",
    "\n",
    "        def dfs(x, c):\n",
    "            colorlist[x] = c\n",
    "            print(f'Node: {x+1}, 색상: {c}, 인접 Node: {node[x]}, 방문여부: {\"O\" if colorlist[x] == 1 else \"X\"}, 색상리스트: {[ c for c in colorlist]}')\n",
    "            for y in node[x]:\n",
    "                print(f'===> Node: {y+1}, 방문여부: {False if colorlist[y] == 0 else True}, {x+1} 과 동일색상여부: {colorlist[y] == colorlist[x]}')\n",
    "                if colorlist[y] == 0:\n",
    "                    if not dfs(y, 3-c):\n",
    "                        return False\n",
    "                elif colorlist[y] == colorlist[x]:\n",
    "                    return False\n",
    "            return True\n",
    "\n",
    "\n",
    "        for i in range(node_no):\n",
    "            if colorlist[i] == 0:\n",
    "                if not dfs(i, 1):\n",
    "                    ans = False\n",
    "        print('YES' if ans else 'NO')"
   ]
  },
  {
   "cell_type": "code",
   "execution_count": 2,
   "metadata": {},
   "outputs": [
    {
     "name": "stdin",
     "output_type": "stream",
     "text": [
      " 2\n",
      " 3 2\n",
      " 1 3\n",
      " 2 3\n"
     ]
    },
    {
     "name": "stdout",
     "output_type": "stream",
     "text": [
      "Node: 1, 색상: 1, 인접 Node: [2], 방문여부: O, 색상리스트: [1, 0, 0]\n",
      "===> Node: 3, 방문여부: False, 1 과 동일색상여부: False\n",
      "Node: 3, 색상: 2, 인접 Node: [0, 1], 방문여부: X, 색상리스트: [1, 0, 2]\n",
      "===> Node: 1, 방문여부: True, 3 과 동일색상여부: False\n",
      "===> Node: 2, 방문여부: False, 3 과 동일색상여부: False\n",
      "Node: 2, 색상: 1, 인접 Node: [2], 방문여부: O, 색상리스트: [1, 1, 2]\n",
      "===> Node: 3, 방문여부: True, 2 과 동일색상여부: False\n",
      "YES\n"
     ]
    },
    {
     "name": "stdin",
     "output_type": "stream",
     "text": [
      " 4 4\n",
      " 1 2\n",
      " 2 3\n",
      " 3 4\n",
      " 4 2\n"
     ]
    },
    {
     "name": "stdout",
     "output_type": "stream",
     "text": [
      "Node: 1, 색상: 1, 인접 Node: [1], 방문여부: O, 색상리스트: [1, 0, 0, 0]\n",
      "===> Node: 2, 방문여부: False, 1 과 동일색상여부: False\n",
      "Node: 2, 색상: 2, 인접 Node: [0, 2, 3], 방문여부: X, 색상리스트: [1, 2, 0, 0]\n",
      "===> Node: 1, 방문여부: True, 2 과 동일색상여부: False\n",
      "===> Node: 3, 방문여부: False, 2 과 동일색상여부: False\n",
      "Node: 3, 색상: 1, 인접 Node: [1, 3], 방문여부: O, 색상리스트: [1, 2, 1, 0]\n",
      "===> Node: 2, 방문여부: True, 3 과 동일색상여부: False\n",
      "===> Node: 4, 방문여부: False, 3 과 동일색상여부: False\n",
      "Node: 4, 색상: 2, 인접 Node: [2, 1], 방문여부: X, 색상리스트: [1, 2, 1, 2]\n",
      "===> Node: 3, 방문여부: True, 4 과 동일색상여부: False\n",
      "===> Node: 2, 방문여부: True, 4 과 동일색상여부: True\n",
      "NO\n"
     ]
    }
   ],
   "source": [
    "answer()"
   ]
  },
  {
   "cell_type": "code",
   "execution_count": null,
   "metadata": {},
   "outputs": [],
   "source": []
  }
 ],
 "metadata": {
  "kernelspec": {
   "display_name": "Python 3",
   "language": "python",
   "name": "python3"
  },
  "language_info": {
   "codemirror_mode": {
    "name": "ipython",
    "version": 3
   },
   "file_extension": ".py",
   "mimetype": "text/x-python",
   "name": "python",
   "nbconvert_exporter": "python",
   "pygments_lexer": "ipython3",
   "version": "3.6.8"
  }
 },
 "nbformat": 4,
 "nbformat_minor": 4
}
