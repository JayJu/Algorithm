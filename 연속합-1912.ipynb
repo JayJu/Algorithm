{
 "cells": [
  {
   "cell_type": "markdown",
   "metadata": {},
   "source": [
    "### 문제: https://www.acmicpc.net/problem/1912"
   ]
  },
  {
   "cell_type": "code",
   "execution_count": 61,
   "metadata": {},
   "outputs": [
    {
     "name": "stdin",
     "output_type": "stream",
     "text": [
      "정수 n:  5\n"
     ]
    }
   ],
   "source": [
    "n = int(input('정수 n: '))"
   ]
  },
  {
   "cell_type": "code",
   "execution_count": 62,
   "metadata": {},
   "outputs": [],
   "source": [
    "t = [0 for _ in range(n+1)]"
   ]
  },
  {
   "cell_type": "code",
   "execution_count": 63,
   "metadata": {},
   "outputs": [
    {
     "data": {
      "text/plain": [
       "[0, 0, 0, 0, 0, 0]"
      ]
     },
     "execution_count": 63,
     "metadata": {},
     "output_type": "execute_result"
    }
   ],
   "source": [
    "t"
   ]
  },
  {
   "cell_type": "code",
   "execution_count": 64,
   "metadata": {},
   "outputs": [],
   "source": [
    "result = -1001"
   ]
  },
  {
   "cell_type": "code",
   "execution_count": 65,
   "metadata": {},
   "outputs": [
    {
     "name": "stdin",
     "output_type": "stream",
     "text": [
      "n개의 정수 수: -5 10 20 -30 -10\n"
     ]
    }
   ],
   "source": [
    "s = [0]\n",
    "s += list(map(int, input('n개의 정수 수:').rstrip().split()))"
   ]
  },
  {
   "cell_type": "code",
   "execution_count": 66,
   "metadata": {},
   "outputs": [
    {
     "data": {
      "text/plain": [
       "[0, -5, 10, 20, -30, -10]"
      ]
     },
     "execution_count": 66,
     "metadata": {},
     "output_type": "execute_result"
    }
   ],
   "source": [
    "s"
   ]
  },
  {
   "cell_type": "code",
   "execution_count": 70,
   "metadata": {},
   "outputs": [
    {
     "name": "stdout",
     "output_type": "stream",
     "text": [
      "i: 1, t[i]: -5, s[i]: -5, t[i-1]+s[i]: -5\n",
      "i: 2, t[i]: 10, s[i]: 10, t[i-1]+s[i]: 5\n",
      "i: 3, t[i]: 30, s[i]: 20, t[i-1]+s[i]: 30\n",
      "i: 4, t[i]: 0, s[i]: -30, t[i-1]+s[i]: 0\n",
      "i: 5, t[i]: 0, s[i]: -10, t[i-1]+s[i]: -10\n",
      "30\n"
     ]
    }
   ],
   "source": [
    "for i in range(1, n+1):\n",
    "    print(f'i: {i}, t[i]: {t[i]}, s[i]: {s[i]}, t[i-1]+s[i]: {t[i-1]+s[i]}')\n",
    "    t[i] = max(t[i-1]+s[i], s[i])\n",
    "    result = max(result, t[i])\n",
    "print(result)"
   ]
  },
  {
   "cell_type": "code",
   "execution_count": null,
   "metadata": {},
   "outputs": [],
   "source": []
  }
 ],
 "metadata": {
  "kernelspec": {
   "display_name": "Python 3",
   "language": "python",
   "name": "python3"
  },
  "language_info": {
   "codemirror_mode": {
    "name": "ipython",
    "version": 3
   },
   "file_extension": ".py",
   "mimetype": "text/x-python",
   "name": "python",
   "nbconvert_exporter": "python",
   "pygments_lexer": "ipython3",
   "version": "3.6.8"
  }
 },
 "nbformat": 4,
 "nbformat_minor": 4
}
