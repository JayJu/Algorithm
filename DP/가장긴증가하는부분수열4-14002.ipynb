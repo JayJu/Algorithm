{
 "cells": [
  {
   "cell_type": "code",
   "execution_count": 55,
   "metadata": {},
   "outputs": [
    {
     "name": "stdout",
     "output_type": "stream",
     "text": [
      "수열 A의 크기 N: 6\n"
     ]
    }
   ],
   "source": [
    "n = int(input('수열 A의 크기 N: '))"
   ]
  },
  {
   "cell_type": "code",
   "execution_count": 56,
   "metadata": {},
   "outputs": [],
   "source": [
    "list_n = [1 for i in range(n)]"
   ]
  },
  {
   "cell_type": "code",
   "execution_count": 57,
   "metadata": {},
   "outputs": [
    {
     "data": {
      "text/plain": [
       "[1, 1, 1, 1, 1, 1]"
      ]
     },
     "execution_count": 57,
     "metadata": {},
     "output_type": "execute_result"
    }
   ],
   "source": [
    "list_n"
   ]
  },
  {
   "cell_type": "code",
   "execution_count": 112,
   "metadata": {},
   "outputs": [
    {
     "name": "stdout",
     "output_type": "stream",
     "text": [
      "수열 A를 이루고 있는 Ai: 20 10 30 20 40 50\n"
     ]
    }
   ],
   "source": [
    "import copy\n",
    "list_a = list(map(int, input('수열 A를 이루고 있는 Ai: ').rstrip().split()))\n",
    "list_b = copy.deepcopy(list_a)"
   ]
  },
  {
   "cell_type": "code",
   "execution_count": 113,
   "metadata": {},
   "outputs": [
    {
     "data": {
      "text/plain": [
       "[20, 10, 30, 20, 40, 50]"
      ]
     },
     "execution_count": 113,
     "metadata": {},
     "output_type": "execute_result"
    }
   ],
   "source": [
    "list_a"
   ]
  },
  {
   "cell_type": "code",
   "execution_count": 109,
   "metadata": {},
   "outputs": [
    {
     "name": "stdout",
     "output_type": "stream",
     "text": [
      "i: 0, j: 0, list_a[i]: 20, list_a[j]: 20, list_n[i]: 1, list_n[i]: 1\n",
      "i: 1, j: 0, list_a[i]: 10, list_a[j]: 20, list_n[i]: 1, list_n[i]: 1\n",
      "i: 1, j: 1, list_a[i]: 10, list_a[j]: 10, list_n[i]: 1, list_n[i]: 1\n",
      "i: 2, j: 0, list_a[i]: 30, list_a[j]: 20, list_n[i]: 1, list_n[i]: 1\n",
      "i: 2, j: 1, list_a[i]: 30, list_a[j]: 10, list_n[i]: 2, list_n[i]: 1\n",
      "i: 2, j: 2, list_a[i]: 30, list_a[j]: 30, list_n[i]: 2, list_n[i]: 2\n",
      "i: 3, j: 0, list_a[i]: 20, list_a[j]: 20, list_n[i]: 1, list_n[i]: 1\n",
      "i: 3, j: 1, list_a[i]: 20, list_a[j]: 10, list_n[i]: 1, list_n[i]: 1\n",
      "i: 3, j: 2, list_a[i]: 20, list_a[j]: 30, list_n[i]: 2, list_n[i]: 2\n",
      "i: 3, j: 3, list_a[i]: 20, list_a[j]: 20, list_n[i]: 2, list_n[i]: 2\n",
      "i: 4, j: 0, list_a[i]: 40, list_a[j]: 20, list_n[i]: 1, list_n[i]: 1\n",
      "i: 4, j: 1, list_a[i]: 40, list_a[j]: 10, list_n[i]: 2, list_n[i]: 1\n",
      "i: 4, j: 2, list_a[i]: 40, list_a[j]: 30, list_n[i]: 2, list_n[i]: 2\n",
      "i: 4, j: 3, list_a[i]: 40, list_a[j]: 20, list_n[i]: 3, list_n[i]: 2\n",
      "i: 4, j: 4, list_a[i]: 40, list_a[j]: 40, list_n[i]: 3, list_n[i]: 3\n",
      "i: 5, j: 0, list_a[i]: 50, list_a[j]: 20, list_n[i]: 1, list_n[i]: 1\n",
      "i: 5, j: 1, list_a[i]: 50, list_a[j]: 10, list_n[i]: 2, list_n[i]: 1\n",
      "i: 5, j: 2, list_a[i]: 50, list_a[j]: 30, list_n[i]: 2, list_n[i]: 2\n",
      "i: 5, j: 3, list_a[i]: 50, list_a[j]: 20, list_n[i]: 3, list_n[i]: 2\n",
      "i: 5, j: 4, list_a[i]: 50, list_a[j]: 40, list_n[i]: 3, list_n[i]: 3\n",
      "i: 5, j: 5, list_a[i]: 50, list_a[j]: 50, list_n[i]: 4, list_n[i]: 4\n"
     ]
    }
   ],
   "source": [
    "list_b = []\n",
    "answer = ''\n",
    "\n",
    "for i in range(len(list_n)):\n",
    "    list_n[i] = 1\n",
    "    for j in range(i+1):\n",
    "        print(f'i: {i}, j: {j}, list_a[i]: {list_a[i]}, list_a[j]: {list_a[j]}, list_n[i]: {list_n[i]}, list_n[i]: {list_n[j]}')\n",
    "        if list_a[j] < list_a[i] and list_n[j] >= list_n[i]:\n",
    "            list_n[i] = list_n[j] + 1\n",
    "            list_b.append(j)\n"
   ]
  },
  {
   "cell_type": "code",
   "execution_count": 116,
   "metadata": {},
   "outputs": [],
   "source": [
    "def go(idx):\n",
    "    if (idx == -1):\n",
    "        return\n",
    "    print(list_a[idx])\n",
    "    go(list_b[idx])\n",
    "    \n",
    "    "
   ]
  },
  {
   "cell_type": "code",
   "execution_count": 118,
   "metadata": {},
   "outputs": [
    {
     "name": "stdout",
     "output_type": "stream",
     "text": [
      "50\n"
     ]
    },
    {
     "ename": "IndexError",
     "evalue": "list index out of range",
     "output_type": "error",
     "traceback": [
      "\u001b[0;31m---------------------------------------------------------------------------\u001b[0m",
      "\u001b[0;31mIndexError\u001b[0m                                Traceback (most recent call last)",
      "\u001b[0;32m<ipython-input-118-fee70db58f96>\u001b[0m in \u001b[0;36m<module>\u001b[0;34m()\u001b[0m\n\u001b[0;32m----> 1\u001b[0;31m \u001b[0mgo\u001b[0m\u001b[0;34m(\u001b[0m\u001b[0;36m5\u001b[0m\u001b[0;34m)\u001b[0m\u001b[0;34m\u001b[0m\u001b[0m\n\u001b[0m",
      "\u001b[0;32m<ipython-input-116-27524549b146>\u001b[0m in \u001b[0;36mgo\u001b[0;34m(idx)\u001b[0m\n\u001b[1;32m      3\u001b[0m         \u001b[0;32mreturn\u001b[0m\u001b[0;34m\u001b[0m\u001b[0m\n\u001b[1;32m      4\u001b[0m     \u001b[0mprint\u001b[0m\u001b[0;34m(\u001b[0m\u001b[0mlist_a\u001b[0m\u001b[0;34m[\u001b[0m\u001b[0midx\u001b[0m\u001b[0;34m]\u001b[0m\u001b[0;34m)\u001b[0m\u001b[0;34m\u001b[0m\u001b[0m\n\u001b[0;32m----> 5\u001b[0;31m     \u001b[0mgo\u001b[0m\u001b[0;34m(\u001b[0m\u001b[0mlist_b\u001b[0m\u001b[0;34m[\u001b[0m\u001b[0midx\u001b[0m\u001b[0;34m]\u001b[0m\u001b[0;34m)\u001b[0m\u001b[0;34m\u001b[0m\u001b[0m\n\u001b[0m\u001b[1;32m      6\u001b[0m \u001b[0;34m\u001b[0m\u001b[0m\n\u001b[1;32m      7\u001b[0m \u001b[0;34m\u001b[0m\u001b[0m\n",
      "\u001b[0;32m<ipython-input-116-27524549b146>\u001b[0m in \u001b[0;36mgo\u001b[0;34m(idx)\u001b[0m\n\u001b[1;32m      2\u001b[0m     \u001b[0;32mif\u001b[0m \u001b[0;34m(\u001b[0m\u001b[0midx\u001b[0m \u001b[0;34m==\u001b[0m \u001b[0;34m-\u001b[0m\u001b[0;36m1\u001b[0m\u001b[0;34m)\u001b[0m\u001b[0;34m:\u001b[0m\u001b[0;34m\u001b[0m\u001b[0m\n\u001b[1;32m      3\u001b[0m         \u001b[0;32mreturn\u001b[0m\u001b[0;34m\u001b[0m\u001b[0m\n\u001b[0;32m----> 4\u001b[0;31m     \u001b[0mprint\u001b[0m\u001b[0;34m(\u001b[0m\u001b[0mlist_a\u001b[0m\u001b[0;34m[\u001b[0m\u001b[0midx\u001b[0m\u001b[0;34m]\u001b[0m\u001b[0;34m)\u001b[0m\u001b[0;34m\u001b[0m\u001b[0m\n\u001b[0m\u001b[1;32m      5\u001b[0m     \u001b[0mgo\u001b[0m\u001b[0;34m(\u001b[0m\u001b[0mlist_b\u001b[0m\u001b[0;34m[\u001b[0m\u001b[0midx\u001b[0m\u001b[0;34m]\u001b[0m\u001b[0;34m)\u001b[0m\u001b[0;34m\u001b[0m\u001b[0m\n\u001b[1;32m      6\u001b[0m \u001b[0;34m\u001b[0m\u001b[0m\n",
      "\u001b[0;31mIndexError\u001b[0m: list index out of range"
     ]
    }
   ],
   "source": [
    "go(5)"
   ]
  },
  {
   "cell_type": "code",
   "execution_count": 110,
   "metadata": {},
   "outputs": [
    {
     "name": "stdout",
     "output_type": "stream",
     "text": [
      "[0, 1, 0, 2, 0, 2, 4] [1, 1, 2, 2, 3, 4]\n"
     ]
    }
   ],
   "source": [
    "print(list_b, list_n)"
   ]
  },
  {
   "cell_type": "code",
   "execution_count": 104,
   "metadata": {},
   "outputs": [],
   "source": [
    "for i in list(set(list_b)):\n",
    "    answer += str(list_a[i-1])"
   ]
  },
  {
   "cell_type": "code",
   "execution_count": 101,
   "metadata": {},
   "outputs": [
    {
     "data": {
      "text/plain": [
       "'103020'"
      ]
     },
     "execution_count": 101,
     "metadata": {},
     "output_type": "execute_result"
    }
   ],
   "source": [
    "answer"
   ]
  },
  {
   "cell_type": "code",
   "execution_count": 31,
   "metadata": {},
   "outputs": [],
   "source": [
    "def answer():\n",
    "    n = int(input())\n",
    "    list_n = [1 for i in range(n)]\n",
    "    list_a = list(map(int, input().rstrip().split()))\n",
    "    for i in range(len(list_n)):\n",
    "        list_n[i] = 1\n",
    "        for j in range(i+1):\n",
    "            if list_a[j] < list_a[i] and list_n[j] >= list_n[i]:\n",
    "                list_n[i] = list_n[j] + 1\n",
    "    print(max(list_n))"
   ]
  },
  {
   "cell_type": "code",
   "execution_count": 32,
   "metadata": {},
   "outputs": [
    {
     "name": "stdout",
     "output_type": "stream",
     "text": [
      "6\n",
      "10 30 20 30 40 50 \n",
      "5\n"
     ]
    }
   ],
   "source": [
    "answer()"
   ]
  },
  {
   "cell_type": "code",
   "execution_count": null,
   "metadata": {},
   "outputs": [],
   "source": []
  }
 ],
 "metadata": {
  "kernelspec": {
   "display_name": "Python 3",
   "language": "python",
   "name": "python3"
  },
  "language_info": {
   "codemirror_mode": {
    "name": "ipython",
    "version": 3
   },
   "file_extension": ".py",
   "mimetype": "text/x-python",
   "name": "python",
   "nbconvert_exporter": "python",
   "pygments_lexer": "ipython3",
   "version": "3.6.5"
  }
 },
 "nbformat": 4,
 "nbformat_minor": 2
}
