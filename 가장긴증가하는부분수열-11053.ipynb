{
 "cells": [
  {
   "cell_type": "code",
   "execution_count": 10,
   "metadata": {},
   "outputs": [
    {
     "name": "stdout",
     "output_type": "stream",
     "text": [
      "수열 A의 크기 N: 5\n"
     ]
    }
   ],
   "source": [
    "n = int(input('수열 A의 크기 N: '))"
   ]
  },
  {
   "cell_type": "code",
   "execution_count": 11,
   "metadata": {},
   "outputs": [],
   "source": [
    "list_n = [1 for i in range(n)]"
   ]
  },
  {
   "cell_type": "code",
   "execution_count": 12,
   "metadata": {},
   "outputs": [
    {
     "data": {
      "text/plain": [
       "[1, 1, 1, 1, 1]"
      ]
     },
     "execution_count": 12,
     "metadata": {},
     "output_type": "execute_result"
    }
   ],
   "source": [
    "list_n"
   ]
  },
  {
   "cell_type": "code",
   "execution_count": 13,
   "metadata": {},
   "outputs": [
    {
     "name": "stdout",
     "output_type": "stream",
     "text": [
      "수열 A를 이루고 있는 Ai: 10 20 10 20 30\n"
     ]
    }
   ],
   "source": [
    "list_a = list(map(int, input('수열 A를 이루고 있는 Ai: ').rstrip().split()))"
   ]
  },
  {
   "cell_type": "code",
   "execution_count": 14,
   "metadata": {},
   "outputs": [
    {
     "data": {
      "text/plain": [
       "[10, 20, 10, 20, 30]"
      ]
     },
     "execution_count": 14,
     "metadata": {},
     "output_type": "execute_result"
    }
   ],
   "source": [
    "list_a"
   ]
  },
  {
   "cell_type": "code",
   "execution_count": 34,
   "metadata": {},
   "outputs": [
    {
     "name": "stdout",
     "output_type": "stream",
     "text": [
      "i: 0, j: 0, list_a[i]: 10, list_a[j]: 10, list_n[i]: 1, list_n[i]: 1 \n",
      "i: 1, j: 0, list_a[i]: 20, list_a[j]: 10, list_n[i]: 1, list_n[i]: 1 \n",
      "i: 1, j: 1, list_a[i]: 20, list_a[j]: 20, list_n[i]: 2, list_n[i]: 2 \n",
      "i: 2, j: 0, list_a[i]: 10, list_a[j]: 10, list_n[i]: 1, list_n[i]: 1 \n",
      "i: 2, j: 1, list_a[i]: 10, list_a[j]: 20, list_n[i]: 1, list_n[i]: 2 \n",
      "i: 2, j: 2, list_a[i]: 10, list_a[j]: 10, list_n[i]: 1, list_n[i]: 1 \n",
      "i: 3, j: 0, list_a[i]: 20, list_a[j]: 10, list_n[i]: 1, list_n[i]: 1 \n",
      "i: 3, j: 1, list_a[i]: 20, list_a[j]: 20, list_n[i]: 2, list_n[i]: 2 \n",
      "i: 3, j: 2, list_a[i]: 20, list_a[j]: 10, list_n[i]: 2, list_n[i]: 1 \n",
      "i: 3, j: 3, list_a[i]: 20, list_a[j]: 20, list_n[i]: 2, list_n[i]: 2 \n",
      "i: 4, j: 0, list_a[i]: 30, list_a[j]: 10, list_n[i]: 1, list_n[i]: 1 \n",
      "i: 4, j: 1, list_a[i]: 30, list_a[j]: 20, list_n[i]: 2, list_n[i]: 2 \n",
      "i: 4, j: 2, list_a[i]: 30, list_a[j]: 10, list_n[i]: 3, list_n[i]: 1 \n",
      "i: 4, j: 3, list_a[i]: 30, list_a[j]: 20, list_n[i]: 3, list_n[i]: 2 \n",
      "i: 4, j: 4, list_a[i]: 30, list_a[j]: 30, list_n[i]: 3, list_n[i]: 3 \n"
     ]
    }
   ],
   "source": [
    "for i in range(len(list_n)):\n",
    "    list_n[i] = 1\n",
    "    for j in range(i+1):\n",
    "        print(f'i: {i}, j: {j}, list_a[i]: {list_a[i]}, list_a[j]: {list_a[j]}, list_n[i]: {list_n[i]}, list_n[i]: {list_n[j]} ')\n",
    "        if list_a[j] < list_a[i] and list_n[j] >= list_n[i]:\n",
    "            list_n[i] = list_n[j] + 1\n"
   ]
  },
  {
   "cell_type": "code",
   "execution_count": 23,
   "metadata": {},
   "outputs": [
    {
     "name": "stdout",
     "output_type": "stream",
     "text": [
      "3\n"
     ]
    }
   ],
   "source": [
    "print(max(list_n))"
   ]
  },
  {
   "cell_type": "code",
   "execution_count": 31,
   "metadata": {},
   "outputs": [],
   "source": [
    "def answer():\n",
    "    n = int(input())\n",
    "    list_n = [1 for i in range(n)]\n",
    "    list_a = list(map(int, input().rstrip().split()))\n",
    "    for i in range(len(list_n)):\n",
    "        list_n[i] = 1\n",
    "        for j in range(i+1):\n",
    "            if list_a[j] < list_a[i] and list_n[j] >= list_n[i]:\n",
    "                list_n[i] = list_n[j] + 1\n",
    "    print(max(list_n))"
   ]
  },
  {
   "cell_type": "code",
   "execution_count": 32,
   "metadata": {},
   "outputs": [
    {
     "name": "stdout",
     "output_type": "stream",
     "text": [
      "6\n",
      "10 30 20 30 40 50 \n",
      "5\n"
     ]
    }
   ],
   "source": [
    "answer()"
   ]
  },
  {
   "cell_type": "code",
   "execution_count": null,
   "metadata": {},
   "outputs": [],
   "source": []
  }
 ],
 "metadata": {
  "kernelspec": {
   "display_name": "Python 3",
   "language": "python",
   "name": "python3"
  },
  "language_info": {
   "codemirror_mode": {
    "name": "ipython",
    "version": 3
   },
   "file_extension": ".py",
   "mimetype": "text/x-python",
   "name": "python",
   "nbconvert_exporter": "python",
   "pygments_lexer": "ipython3",
   "version": "3.6.5"
  }
 },
 "nbformat": 4,
 "nbformat_minor": 2
}
